{
  "nbformat": 4,
  "nbformat_minor": 0,
  "metadata": {
    "colab": {
      "provenance": [],
      "include_colab_link": true
    },
    "kernelspec": {
      "name": "python3",
      "display_name": "Python 3"
    },
    "accelerator": "GPU"
  },
  "cells": [
    {
      "cell_type": "markdown",
      "metadata": {
        "id": "view-in-github",
        "colab_type": "text"
      },
      "source": [
        "<a href=\"https://colab.research.google.com/github/laassiri571/Regression-lineaire-numpy/blob/master/Master_DL_Course1.ipynb\" target=\"_parent\"><img src=\"https://colab.research.google.com/assets/colab-badge.svg\" alt=\"Open In Colab\"/></a>"
      ]
    },
    {
      "cell_type": "code",
      "metadata": {
        "id": "NgIo7_iIhmnR"
      },
      "source": [
        "## Ecrit par Redouane Lguensat\n",
        "## pour le cours Deep Learning "
      ],
      "execution_count": 2,
      "outputs": []
    },
    {
      "cell_type": "markdown",
      "metadata": {
        "id": "bm0X7gA3hT-l"
      },
      "source": [
        "## Exercice 1"
      ]
    },
    {
      "cell_type": "code",
      "metadata": {
        "id": "SaVQIxjRUevb"
      },
      "source": [
        "import numpy as np\n",
        "import math"
      ],
      "execution_count": 1,
      "outputs": []
    },
    {
      "cell_type": "code",
      "metadata": {
        "id": "BHxHi3dFUhMM"
      },
      "source": [
        "def sigmoid(x):\n",
        "  return 1 / (1 + math.exp(-x))"
      ],
      "execution_count": 3,
      "outputs": []
    },
    {
      "cell_type": "code",
      "metadata": {
        "colab": {
          "base_uri": "https://localhost:8080/"
        },
        "id": "mii1NMq6fH9Z",
        "outputId": "614cc9a9-dd98-4035-c6aa-098e586a8e3a"
      },
      "source": [
        "0.55*0.5+(-0.35)*0.45+0.15"
      ],
      "execution_count": 4,
      "outputs": [
        {
          "output_type": "execute_result",
          "data": {
            "text/plain": [
              "0.2675"
            ]
          },
          "metadata": {},
          "execution_count": 4
        }
      ]
    },
    {
      "cell_type": "code",
      "metadata": {
        "id": "sYeWNgE2UpLa",
        "colab": {
          "base_uri": "https://localhost:8080/"
        },
        "outputId": "6493ad3f-28d2-40ef-e134-f2c92e37d34b"
      },
      "source": [
        "sigmoid(0.55*0.5+(-0.35)*0.45+0.15)"
      ],
      "execution_count": 5,
      "outputs": [
        {
          "output_type": "execute_result",
          "data": {
            "text/plain": [
              "0.5664790559676278"
            ]
          },
          "metadata": {},
          "execution_count": 5
        }
      ]
    },
    {
      "cell_type": "markdown",
      "metadata": {
        "id": "k3x1_ZwLhY5E"
      },
      "source": [
        "## Exercice 2"
      ]
    },
    {
      "cell_type": "code",
      "metadata": {
        "id": "UgZum9w9haWD"
      },
      "source": [
        "import keras\n",
        "from keras import Sequential\n",
        "from keras.layers import Dense"
      ],
      "execution_count": 6,
      "outputs": []
    },
    {
      "cell_type": "code",
      "metadata": {
        "id": "n1uKmqPphazV"
      },
      "source": [
        "model = Sequential()\n",
        "model.add(Dense(4, activation='relu', input_shape=(3,)))\n",
        "model.add(Dense(4, activation='relu'))\n",
        "model.add(Dense(1))"
      ],
      "execution_count": 7,
      "outputs": []
    },
    {
      "cell_type": "code",
      "metadata": {
        "id": "DHmC99WiiOCp",
        "colab": {
          "base_uri": "https://localhost:8080/"
        },
        "outputId": "3221e77e-ec74-430a-a5d3-b40945106fe5"
      },
      "source": [
        "model.summary()"
      ],
      "execution_count": 8,
      "outputs": [
        {
          "output_type": "stream",
          "name": "stdout",
          "text": [
            "Model: \"sequential\"\n",
            "_________________________________________________________________\n",
            " Layer (type)                Output Shape              Param #   \n",
            "=================================================================\n",
            " dense (Dense)               (None, 4)                 16        \n",
            "                                                                 \n",
            " dense_1 (Dense)             (None, 4)                 20        \n",
            "                                                                 \n",
            " dense_2 (Dense)             (None, 1)                 5         \n",
            "                                                                 \n",
            "=================================================================\n",
            "Total params: 41\n",
            "Trainable params: 41\n",
            "Non-trainable params: 0\n",
            "_________________________________________________________________\n"
          ]
        }
      ]
    },
    {
      "cell_type": "markdown",
      "metadata": {
        "id": "BfD3Rg8ev7cO"
      },
      "source": [
        "# Tutoriel MNIST "
      ]
    },
    {
      "cell_type": "code",
      "metadata": {
        "colab": {
          "base_uri": "https://localhost:8080/",
          "height": 35
        },
        "id": "QGR3_kFV_0xp",
        "outputId": "b9f32250-8e2e-446b-9ad8-83a8a69478ff"
      },
      "source": [
        "keras.__version__"
      ],
      "execution_count": 9,
      "outputs": [
        {
          "output_type": "execute_result",
          "data": {
            "text/plain": [
              "'2.11.0'"
            ],
            "application/vnd.google.colaboratory.intrinsic+json": {
              "type": "string"
            }
          },
          "metadata": {},
          "execution_count": 9
        }
      ]
    },
    {
      "cell_type": "code",
      "metadata": {
        "id": "kXmCJLomwAkc"
      },
      "source": [
        "#import tensorflow \n",
        "#from tensorflow import keras\n",
        "import keras\n",
        "from keras.datasets import mnist\n",
        "from keras.models import Sequential\n",
        "from keras.layers import Dense, Dropout\n",
        "from tensorflow.keras.optimizers import Adam\n",
        "from keras.regularizers import l1, l2\n",
        "import matplotlib.pyplot as plt"
      ],
      "execution_count": 10,
      "outputs": []
    },
    {
      "cell_type": "markdown",
      "metadata": {
        "id": "Cfu71yeayiQb"
      },
      "source": [
        "charger la base de données MNIST"
      ]
    },
    {
      "cell_type": "code",
      "metadata": {
        "id": "u-rq6b3uwcwV",
        "colab": {
          "base_uri": "https://localhost:8080/"
        },
        "outputId": "307ad275-1291-46c7-a59c-fb580e6d9eb4"
      },
      "source": [
        "# the data, split between train and test sets\n",
        "(x_train, y_train), (x_test, y_test) = mnist.load_data()"
      ],
      "execution_count": 11,
      "outputs": [
        {
          "output_type": "stream",
          "name": "stdout",
          "text": [
            "Downloading data from https://storage.googleapis.com/tensorflow/tf-keras-datasets/mnist.npz\n",
            "11490434/11490434 [==============================] - 2s 0us/step\n"
          ]
        }
      ]
    },
    {
      "cell_type": "code",
      "metadata": {
        "colab": {
          "base_uri": "https://localhost:8080/"
        },
        "id": "8daUNaHmBSKP",
        "outputId": "9a6817d1-4b03-4ef4-eff5-f030787fa9a3"
      },
      "source": [
        "x_train.shape"
      ],
      "execution_count": 12,
      "outputs": [
        {
          "output_type": "execute_result",
          "data": {
            "text/plain": [
              "(60000, 28, 28)"
            ]
          },
          "metadata": {},
          "execution_count": 12
        }
      ]
    },
    {
      "cell_type": "code",
      "metadata": {
        "id": "hab3eg6vxEca",
        "colab": {
          "base_uri": "https://localhost:8080/",
          "height": 167
        },
        "outputId": "182b55bb-c943-4a2e-f52e-d8e89ed0bf7c"
      },
      "source": [
        "randindices = np.random.randint(x_train.shape[0],size=3)\n",
        "plt.figure()\n",
        "plt.subplot(1,3,1)\n",
        "plt.imshow(x_train[randindices[0],:,:], cmap='gray')\n",
        "plt.subplot(1,3,2)\n",
        "plt.imshow(x_train[randindices[1],:,:], cmap='gray')\n",
        "plt.subplot(1,3,3)\n",
        "plt.imshow(x_train[randindices[2],:,:], cmap='gray')"
      ],
      "execution_count": 13,
      "outputs": [
        {
          "output_type": "execute_result",
          "data": {
            "text/plain": [
              "<matplotlib.image.AxesImage at 0x7f247c3483a0>"
            ]
          },
          "metadata": {},
          "execution_count": 13
        },
        {
          "output_type": "display_data",
          "data": {
            "text/plain": [
              "<Figure size 432x288 with 3 Axes>"
            ],
            "image/png": "[encoded data removed]"
          },
          "metadata": {
            "needs_background": "light"
          }
        }
      ]
    },
    {
      "cell_type": "code",
      "metadata": {
        "id": "-8tpJqVuxXLN",
        "colab": {
          "base_uri": "https://localhost:8080/"
        },
        "outputId": "b9c7291a-7b50-4e31-dec1-bcedea02b526"
      },
      "source": [
        "print(y_train[randindices[0]],y_train[randindices[1]],y_train[randindices[2]])"
      ],
      "execution_count": 14,
      "outputs": [
        {
          "output_type": "stream",
          "name": "stdout",
          "text": [
            "8 9 8\n"
          ]
        }
      ]
    },
    {
      "cell_type": "code",
      "metadata": {
        "id": "3apLDrZ_ybN5",
        "colab": {
          "base_uri": "https://localhost:8080/"
        },
        "outputId": "acb6b9ba-3360-41c1-92d9-581c40be9546"
      },
      "source": [
        "x_train[randindices[0],:,:]"
      ],
      "execution_count": 15,
      "outputs": [
        {
          "output_type": "execute_result",
          "data": {
            "text/plain": [
              "array([[  0,   0,   0,   0,   0,   0,   0,   0,   0,   0,   0,   0,   0,\n",
              "          0,   0,   0,   0,   0,   0,   0,   0,   0,   0,   0,   0,   0,\n",
              "          0,   0],\n",
              "       [  0,   0,   0,   0,   0,   0,   0,   0,   0,   0,   0,   0,   0,\n",
              "          0,   0,   0,   0,   0,   0,   0,   0,   0,   0,   0,   0,   0,\n",
              "          0,   0],\n",
              "       [  0,   0,   0,   0,   0,   0,   0,   0,   0,   0,   0,   0,   0,\n",
              "          0,   0,   0,   0,   0,   0,   0,   0,   0,   0,   0,   0,   0,\n",
              "          0,   0],\n",
              "       [  0,   0,   0,   0,   0,   0,   0,   0,   0,   0,   0,   0,   0,\n",
              "          0,   0,   0,   0,   0,   0,   0,   0,   0,   0,   0,   0,   0,\n",
              "          0,   0],\n",
              "       [  0,   0,   0,   0,   0,   0,   0,   0,   0,   0,   0,   0,   0,\n",
              "          0,   0,   0,  45, 163, 254, 254, 143,   0,   0,   0,   0,   0,\n",
              "          0,   0],\n",
              "       [  0,   0,   0,   0,   0,   0,   0,   0,   0,   0,   0,   0,   0,\n",
              "          0,   0,   0, 221, 253, 253, 253, 251,  89,   0,   0,   0,   0,\n",
              "          0,   0],\n",
              "       [  0,   0,   0,   0,   0,   0,   0,   0,   0,   0,   0,   0,   0,\n",
              "          0,  95, 150, 251, 253, 253, 253, 253,  93,   0,   0,   0,   0,\n",
              "          0,   0],\n",
              "       [  0,   0,   0,   0,   0,   0,   0,   0,   0,   0,   0,  52, 158,\n",
              "        214, 254, 253, 253, 253, 253, 253, 219,  15,   0,   0,   0,   0,\n",
              "          0,   0],\n",
              "       [  0,   0,   0,   0,   0,   0,   0,   0,   0,   0,  68, 234, 253,\n",
              "        253, 254, 253, 253, 253, 253, 175,  45,   0,   0,   0,   0,   0,\n",
              "          0,   0],\n",
              "       [  0,   0,   0,   0,   0,   0,   0,   0,   0,  40, 233, 253, 250,\n",
              "        199,  92, 247, 253, 236, 164,  18,   0,   0,   0,   0,   0,   0,\n",
              "          0,   0],\n",
              "       [  0,   0,   0,   0,   0,   0,   0,   0,   0,  54, 253, 253, 240,\n",
              "          0, 142, 253, 253, 151,   0,   0,   0,   0,   0,   0,   0,   0,\n",
              "          0,   0],\n",
              "       [  0,   0,   0,   0,   0,   0,   0,   0,   0,  54, 253, 253, 248,\n",
              "        161, 254, 253, 109,  15,   0,   0,   0,   0,   0,   0,   0,   0,\n",
              "          0,   0],\n",
              "       [  0,   0,   0,   0,   0,   0,   0,   0,   0,  51, 249, 253, 253,\n",
              "        253, 254, 184,  11,   0,   0,   0,   0,   0,   0,   0,   0,   0,\n",
              "          0,   0],\n",
              "       [  0,   0,   0,   0,   0,   0,   0,   0,   0,   0, 104, 253, 253,\n",
              "        253, 191,   6,   0,   0,   0,   0,   0,   0,   0,   0,   0,   0,\n",
              "          0,   0],\n",
              "       [  0,   0,   0,   0,   0,   0,   0,   0,   0,   0, 105, 254, 254,\n",
              "        254,  64,   0,   0,   0,   0,   0,   0,   0,   0,   0,   0,   0,\n",
              "          0,   0],\n",
              "       [  0,   0,   0,   0,   0,   0,   0,   0,   0,  23, 207, 253, 253,\n",
              "        253, 185,   6,   0,   0,   0,   0,   0,   0,   0,   0,   0,   0,\n",
              "          0,   0],\n",
              "       [  0,   0,   0,   0,   0,   0,   0,   0, 111, 233, 253, 243, 214,\n",
              "        253, 254,  62,   0,   0,   0,   0,   0,   0,   0,   0,   0,   0,\n",
              "          0,   0],\n",
              "       [  0,   0,   0,   0,   0,   0,   0,  69, 217, 253, 240,  84,  30,\n",
              "        215, 254, 237, 214, 172,  17,   0,   0,   0,   0,   0,   0,   0,\n",
              "          0,   0],\n",
              "       [  0,   0,   0,   0,   0,   0,   0, 214, 253, 253, 107,   0,   0,\n",
              "         99, 187, 179, 253, 253, 176,  53,   0,   0,   0,   0,   0,   0,\n",
              "          0,   0],\n",
              "       [  0,   0,   0,   0,   0,   0,  70, 243, 253, 253, 117,  49,   0,\n",
              "          0,   0,  63, 186, 174, 253, 211,  46,   0,   0,   0,   0,   0,\n",
              "          0,   0],\n",
              "       [  0,   0,   0,   0,   0,   0,  30, 205, 253, 253, 253, 245, 174,\n",
              "        174,  41,   2,  15, 149, 253, 253, 219,  15,   0,   0,   0,   0,\n",
              "          0,   0],\n",
              "       [  0,   0,   0,   0,   0,   0,   0,  30, 128, 232, 253, 253, 253,\n",
              "        253, 255, 165, 195, 253, 253, 253, 228,  34,   0,   0,   0,   0,\n",
              "          0,   0],\n",
              "       [  0,   0,   0,   0,   0,   0,   0,   0,   0,  23, 107, 191, 248,\n",
              "        253, 255, 253, 253, 253, 253, 250, 131,   0,   0,   0,   0,   0,\n",
              "          0,   0],\n",
              "       [  0,   0,   0,   0,   0,   0,   0,   0,   0,   0,   0,   0,  70,\n",
              "        190, 255, 253, 203, 120, 120,  95,   0,   0,   0,   0,   0,   0,\n",
              "          0,   0],\n",
              "       [  0,   0,   0,   0,   0,   0,   0,   0,   0,   0,   0,   0,   0,\n",
              "          0,   0,   0,   0,   0,   0,   0,   0,   0,   0,   0,   0,   0,\n",
              "          0,   0],\n",
              "       [  0,   0,   0,   0,   0,   0,   0,   0,   0,   0,   0,   0,   0,\n",
              "          0,   0,   0,   0,   0,   0,   0,   0,   0,   0,   0,   0,   0,\n",
              "          0,   0],\n",
              "       [  0,   0,   0,   0,   0,   0,   0,   0,   0,   0,   0,   0,   0,\n",
              "          0,   0,   0,   0,   0,   0,   0,   0,   0,   0,   0,   0,   0,\n",
              "          0,   0],\n",
              "       [  0,   0,   0,   0,   0,   0,   0,   0,   0,   0,   0,   0,   0,\n",
              "          0,   0,   0,   0,   0,   0,   0,   0,   0,   0,   0,   0,   0,\n",
              "          0,   0]], dtype=uint8)"
            ]
          },
          "metadata": {},
          "execution_count": 15
        }
      ]
    },
    {
      "cell_type": "code",
      "metadata": {
        "colab": {
          "base_uri": "https://localhost:8080/"
        },
        "id": "MjyY78IYCf1o",
        "outputId": "52269bde-07d5-40d0-ff00-d50f211eb37e"
      },
      "source": [
        "x_test.shape #60000 images d'entraînement, 10000 images de test"
      ],
      "execution_count": 16,
      "outputs": [
        {
          "output_type": "execute_result",
          "data": {
            "text/plain": [
              "(10000, 28, 28)"
            ]
          },
          "metadata": {},
          "execution_count": 16
        }
      ]
    },
    {
      "cell_type": "markdown",
      "metadata": {
        "id": "bi45ZNwyx-7Z"
      },
      "source": [
        "Aplatir les images et normalisation"
      ]
    },
    {
      "cell_type": "code",
      "metadata": {
        "id": "Rre-HlwdxDpE",
        "colab": {
          "base_uri": "https://localhost:8080/"
        },
        "outputId": "ac332949-c767-4a63-f349-667ff5982380"
      },
      "source": [
        "x_train = x_train.reshape(60000, 784) # aplatir données d'entraînement\n",
        "x_test = x_test.reshape(10000, 784) #aplatir données de test\n",
        "x_train = x_train.astype('float32') #transformation d'int to float\n",
        "x_test = x_test.astype('float32')\n",
        "x_train /= 255\n",
        "x_test /= 255\n",
        "print(x_train.shape[0], 'train samples')\n",
        "print(x_test.shape[0], 'test samples')"
      ],
      "execution_count": 17,
      "outputs": [
        {
          "output_type": "stream",
          "name": "stdout",
          "text": [
            "60000 train samples\n",
            "10000 test samples\n"
          ]
        }
      ]
    },
    {
      "cell_type": "code",
      "metadata": {
        "colab": {
          "base_uri": "https://localhost:8080/"
        },
        "id": "QZNEgKh6DNNB",
        "outputId": "f62307ad-6207-459d-d81e-4a4b1b56a23c"
      },
      "source": [
        "x_train.shape"
      ],
      "execution_count": 18,
      "outputs": [
        {
          "output_type": "execute_result",
          "data": {
            "text/plain": [
              "(60000, 784)"
            ]
          },
          "metadata": {},
          "execution_count": 18
        }
      ]
    },
    {
      "cell_type": "code",
      "metadata": {
        "colab": {
          "base_uri": "https://localhost:8080/"
        },
        "id": "m4P5jlDCDVhO",
        "outputId": "2c3af8ea-0595-4a2f-b015-57ce55cd3e67"
      },
      "source": [
        "x_train[0,:]"
      ],
      "execution_count": 19,
      "outputs": [
        {
          "output_type": "execute_result",
          "data": {
            "text/plain": [
              "array([0.        , 0.        , 0.        , 0.        , 0.        ,\n",
              "       0.        , 0.        , 0.        , 0.        , 0.        ,\n",
              "       0.        , 0.        , 0.        , 0.        , 0.        ,\n",
              "       0.        , 0.        , 0.        , 0.        , 0.        ,\n",
              "       0.        , 0.        , 0.        , 0.        , 0.        ,\n",
              "       0.        , 0.        , 0.        , 0.        , 0.        ,\n",
              "       0.        , 0.        , 0.        , 0.        , 0.        ,\n",
              "       0.        , 0.        , 0.        , 0.        , 0.        ,\n",
              "       0.        , 0.        , 0.        , 0.        , 0.        ,\n",
              "       0.        , 0.        , 0.        , 0.        , 0.        ,\n",
              "       0.        , 0.        , 0.        , 0.        , 0.        ,\n",
              "       0.        , 0.        , 0.        , 0.        , 0.        ,\n",
              "       0.        , 0.        , 0.        , 0.        , 0.        ,\n",
              "       0.        , 0.        , 0.        , 0.        , 0.        ,\n",
              "       0.        , 0.        , 0.        , 0.        , 0.        ,\n",
              "       0.        , 0.        , 0.        , 0.        , 0.        ,\n",
              "       0.        , 0.        , 0.        , 0.        , 0.        ,\n",
              "       0.        , 0.        , 0.        , 0.        , 0.        ,\n",
              "       0.        , 0.        , 0.        , 0.        , 0.        ,\n",
              "       0.        , 0.        , 0.        , 0.        , 0.        ,\n",
              "       0.        , 0.        , 0.        , 0.        , 0.        ,\n",
              "       0.        , 0.        , 0.        , 0.        , 0.        ,\n",
              "       0.        , 0.        , 0.        , 0.        , 0.        ,\n",
              "       0.        , 0.        , 0.        , 0.        , 0.        ,\n",
              "       0.        , 0.        , 0.        , 0.        , 0.        ,\n",
              "       0.        , 0.        , 0.        , 0.        , 0.        ,\n",
              "       0.        , 0.        , 0.        , 0.        , 0.        ,\n",
              "       0.        , 0.        , 0.        , 0.        , 0.        ,\n",
              "       0.        , 0.        , 0.        , 0.        , 0.        ,\n",
              "       0.        , 0.        , 0.        , 0.        , 0.        ,\n",
              "       0.        , 0.        , 0.01176471, 0.07058824, 0.07058824,\n",
              "       0.07058824, 0.49411765, 0.53333336, 0.6862745 , 0.10196079,\n",
              "       0.6509804 , 1.        , 0.96862745, 0.49803922, 0.        ,\n",
              "       0.        , 0.        , 0.        , 0.        , 0.        ,\n",
              "       0.        , 0.        , 0.        , 0.        , 0.        ,\n",
              "       0.        , 0.11764706, 0.14117648, 0.36862746, 0.6039216 ,\n",
              "       0.6666667 , 0.99215686, 0.99215686, 0.99215686, 0.99215686,\n",
              "       0.99215686, 0.88235295, 0.6745098 , 0.99215686, 0.9490196 ,\n",
              "       0.7647059 , 0.2509804 , 0.        , 0.        , 0.        ,\n",
              "       0.        , 0.        , 0.        , 0.        , 0.        ,\n",
              "       0.        , 0.        , 0.        , 0.19215687, 0.93333334,\n",
              "       0.99215686, 0.99215686, 0.99215686, 0.99215686, 0.99215686,\n",
              "       0.99215686, 0.99215686, 0.99215686, 0.9843137 , 0.3647059 ,\n",
              "       0.32156864, 0.32156864, 0.21960784, 0.15294118, 0.        ,\n",
              "       0.        , 0.        , 0.        , 0.        , 0.        ,\n",
              "       0.        , 0.        , 0.        , 0.        , 0.        ,\n",
              "       0.        , 0.07058824, 0.85882354, 0.99215686, 0.99215686,\n",
              "       0.99215686, 0.99215686, 0.99215686, 0.7764706 , 0.7137255 ,\n",
              "       0.96862745, 0.94509804, 0.        , 0.        , 0.        ,\n",
              "       0.        , 0.        , 0.        , 0.        , 0.        ,\n",
              "       0.        , 0.        , 0.        , 0.        , 0.        ,\n",
              "       0.        , 0.        , 0.        , 0.        , 0.        ,\n",
              "       0.3137255 , 0.6117647 , 0.41960785, 0.99215686, 0.99215686,\n",
              "       0.8039216 , 0.04313726, 0.        , 0.16862746, 0.6039216 ,\n",
              "       0.        , 0.        , 0.        , 0.        , 0.        ,\n",
              "       0.        , 0.        , 0.        , 0.        , 0.        ,\n",
              "       0.        , 0.        , 0.        , 0.        , 0.        ,\n",
              "       0.        , 0.        , 0.        , 0.        , 0.05490196,\n",
              "       0.00392157, 0.6039216 , 0.99215686, 0.3529412 , 0.        ,\n",
              "       0.        , 0.        , 0.        , 0.        , 0.        ,\n",
              "       0.        , 0.        , 0.        , 0.        , 0.        ,\n",
              "       0.        , 0.        , 0.        , 0.        , 0.        ,\n",
              "       0.        , 0.        , 0.        , 0.        , 0.        ,\n",
              "       0.        , 0.        , 0.        , 0.        , 0.54509807,\n",
              "       0.99215686, 0.74509805, 0.00784314, 0.        , 0.        ,\n",
              "       0.        , 0.        , 0.        , 0.        , 0.        ,\n",
              "       0.        , 0.        , 0.        , 0.        , 0.        ,\n",
              "       0.        , 0.        , 0.        , 0.        , 0.        ,\n",
              "       0.        , 0.        , 0.        , 0.        , 0.        ,\n",
              "       0.        , 0.        , 0.04313726, 0.74509805, 0.99215686,\n",
              "       0.27450982, 0.        , 0.        , 0.        , 0.        ,\n",
              "       0.        , 0.        , 0.        , 0.        , 0.        ,\n",
              "       0.        , 0.        , 0.        , 0.        , 0.        ,\n",
              "       0.        , 0.        , 0.        , 0.        , 0.        ,\n",
              "       0.        , 0.        , 0.        , 0.        , 0.        ,\n",
              "       0.        , 0.13725491, 0.94509804, 0.88235295, 0.627451  ,\n",
              "       0.42352942, 0.00392157, 0.        , 0.        , 0.        ,\n",
              "       0.        , 0.        , 0.        , 0.        , 0.        ,\n",
              "       0.        , 0.        , 0.        , 0.        , 0.        ,\n",
              "       0.        , 0.        , 0.        , 0.        , 0.        ,\n",
              "       0.        , 0.        , 0.        , 0.        , 0.        ,\n",
              "       0.31764707, 0.9411765 , 0.99215686, 0.99215686, 0.46666667,\n",
              "       0.09803922, 0.        , 0.        , 0.        , 0.        ,\n",
              "       0.        , 0.        , 0.        , 0.        , 0.        ,\n",
              "       0.        , 0.        , 0.        , 0.        , 0.        ,\n",
              "       0.        , 0.        , 0.        , 0.        , 0.        ,\n",
              "       0.        , 0.        , 0.        , 0.        , 0.1764706 ,\n",
              "       0.7294118 , 0.99215686, 0.99215686, 0.5882353 , 0.10588235,\n",
              "       0.        , 0.        , 0.        , 0.        , 0.        ,\n",
              "       0.        , 0.        , 0.        , 0.        , 0.        ,\n",
              "       0.        , 0.        , 0.        , 0.        , 0.        ,\n",
              "       0.        , 0.        , 0.        , 0.        , 0.        ,\n",
              "       0.        , 0.        , 0.        , 0.0627451 , 0.3647059 ,\n",
              "       0.9882353 , 0.99215686, 0.73333335, 0.        , 0.        ,\n",
              "       0.        , 0.        , 0.        , 0.        , 0.        ,\n",
              "       0.        , 0.        , 0.        , 0.        , 0.        ,\n",
              "       0.        , 0.        , 0.        , 0.        , 0.        ,\n",
              "       0.        , 0.        , 0.        , 0.        , 0.        ,\n",
              "       0.        , 0.        , 0.        , 0.9764706 , 0.99215686,\n",
              "       0.9764706 , 0.2509804 , 0.        , 0.        , 0.        ,\n",
              "       0.        , 0.        , 0.        , 0.        , 0.        ,\n",
              "       0.        , 0.        , 0.        , 0.        , 0.        ,\n",
              "       0.        , 0.        , 0.        , 0.        , 0.        ,\n",
              "       0.        , 0.        , 0.        , 0.18039216, 0.50980395,\n",
              "       0.7176471 , 0.99215686, 0.99215686, 0.8117647 , 0.00784314,\n",
              "       0.        , 0.        , 0.        , 0.        , 0.        ,\n",
              "       0.        , 0.        , 0.        , 0.        , 0.        ,\n",
              "       0.        , 0.        , 0.        , 0.        , 0.        ,\n",
              "       0.        , 0.        , 0.        , 0.        , 0.15294118,\n",
              "       0.5803922 , 0.8980392 , 0.99215686, 0.99215686, 0.99215686,\n",
              "       0.98039216, 0.7137255 , 0.        , 0.        , 0.        ,\n",
              "       0.        , 0.        , 0.        , 0.        , 0.        ,\n",
              "       0.        , 0.        , 0.        , 0.        , 0.        ,\n",
              "       0.        , 0.        , 0.        , 0.        , 0.        ,\n",
              "       0.09411765, 0.44705883, 0.8666667 , 0.99215686, 0.99215686,\n",
              "       0.99215686, 0.99215686, 0.7882353 , 0.30588236, 0.        ,\n",
              "       0.        , 0.        , 0.        , 0.        , 0.        ,\n",
              "       0.        , 0.        , 0.        , 0.        , 0.        ,\n",
              "       0.        , 0.        , 0.        , 0.        , 0.        ,\n",
              "       0.        , 0.09019608, 0.25882354, 0.8352941 , 0.99215686,\n",
              "       0.99215686, 0.99215686, 0.99215686, 0.7764706 , 0.31764707,\n",
              "       0.00784314, 0.        , 0.        , 0.        , 0.        ,\n",
              "       0.        , 0.        , 0.        , 0.        , 0.        ,\n",
              "       0.        , 0.        , 0.        , 0.        , 0.        ,\n",
              "       0.        , 0.        , 0.07058824, 0.67058825, 0.85882354,\n",
              "       0.99215686, 0.99215686, 0.99215686, 0.99215686, 0.7647059 ,\n",
              "       0.3137255 , 0.03529412, 0.        , 0.        , 0.        ,\n",
              "       0.        , 0.        , 0.        , 0.        , 0.        ,\n",
              "       0.        , 0.        , 0.        , 0.        , 0.        ,\n",
              "       0.        , 0.        , 0.        , 0.21568628, 0.6745098 ,\n",
              "       0.8862745 , 0.99215686, 0.99215686, 0.99215686, 0.99215686,\n",
              "       0.95686275, 0.52156866, 0.04313726, 0.        , 0.        ,\n",
              "       0.        , 0.        , 0.        , 0.        , 0.        ,\n",
              "       0.        , 0.        , 0.        , 0.        , 0.        ,\n",
              "       0.        , 0.        , 0.        , 0.        , 0.        ,\n",
              "       0.        , 0.53333336, 0.99215686, 0.99215686, 0.99215686,\n",
              "       0.83137256, 0.5294118 , 0.5176471 , 0.0627451 , 0.        ,\n",
              "       0.        , 0.        , 0.        , 0.        , 0.        ,\n",
              "       0.        , 0.        , 0.        , 0.        , 0.        ,\n",
              "       0.        , 0.        , 0.        , 0.        , 0.        ,\n",
              "       0.        , 0.        , 0.        , 0.        , 0.        ,\n",
              "       0.        , 0.        , 0.        , 0.        , 0.        ,\n",
              "       0.        , 0.        , 0.        , 0.        , 0.        ,\n",
              "       0.        , 0.        , 0.        , 0.        , 0.        ,\n",
              "       0.        , 0.        , 0.        , 0.        , 0.        ,\n",
              "       0.        , 0.        , 0.        , 0.        , 0.        ,\n",
              "       0.        , 0.        , 0.        , 0.        , 0.        ,\n",
              "       0.        , 0.        , 0.        , 0.        , 0.        ,\n",
              "       0.        , 0.        , 0.        , 0.        , 0.        ,\n",
              "       0.        , 0.        , 0.        , 0.        , 0.        ,\n",
              "       0.        , 0.        , 0.        , 0.        , 0.        ,\n",
              "       0.        , 0.        , 0.        , 0.        , 0.        ,\n",
              "       0.        , 0.        , 0.        , 0.        , 0.        ,\n",
              "       0.        , 0.        , 0.        , 0.        , 0.        ,\n",
              "       0.        , 0.        , 0.        , 0.        , 0.        ,\n",
              "       0.        , 0.        , 0.        , 0.        , 0.        ,\n",
              "       0.        , 0.        , 0.        , 0.        ], dtype=float32)"
            ]
          },
          "metadata": {},
          "execution_count": 19
        }
      ]
    },
    {
      "cell_type": "code",
      "metadata": {
        "colab": {
          "base_uri": "https://localhost:8080/"
        },
        "id": "8bpMXB9eDwRw",
        "outputId": "421f79aa-5215-44de-f944-9fe4269fa2c2"
      },
      "source": [
        "y_train[0:5]"
      ],
      "execution_count": 20,
      "outputs": [
        {
          "output_type": "execute_result",
          "data": {
            "text/plain": [
              "array([5, 0, 4, 1, 9], dtype=uint8)"
            ]
          },
          "metadata": {},
          "execution_count": 20
        }
      ]
    },
    {
      "cell_type": "markdown",
      "metadata": {
        "id": "GEgC-LOeECat"
      },
      "source": [
        "5 ->  0 0 0 0 0 1 0 0 0 0 (one hot encoding)"
      ]
    },
    {
      "cell_type": "markdown",
      "metadata": {
        "id": "bdf_TSaTyxDh"
      },
      "source": [
        "convertir les classes en vecteurs binaires (categorical)"
      ]
    },
    {
      "cell_type": "code",
      "metadata": {
        "id": "SVW-sLCQywE6"
      },
      "source": [
        "num_classes = 10\n",
        "\n",
        "y_train = keras.utils.to_categorical(y_train, num_classes)\n",
        "y_test = keras.utils.to_categorical(y_test, num_classes)"
      ],
      "execution_count": 21,
      "outputs": []
    },
    {
      "cell_type": "code",
      "metadata": {
        "colab": {
          "base_uri": "https://localhost:8080/"
        },
        "id": "6KeOS-wlXnr_",
        "outputId": "62ffd3ec-1057-4aca-9af3-1c2024fddb87"
      },
      "source": [
        "y_train[:5,]"
      ],
      "execution_count": 22,
      "outputs": [
        {
          "output_type": "execute_result",
          "data": {
            "text/plain": [
              "array([[0., 0., 0., 0., 0., 1., 0., 0., 0., 0.],\n",
              "       [1., 0., 0., 0., 0., 0., 0., 0., 0., 0.],\n",
              "       [0., 0., 0., 0., 1., 0., 0., 0., 0., 0.],\n",
              "       [0., 1., 0., 0., 0., 0., 0., 0., 0., 0.],\n",
              "       [0., 0., 0., 0., 0., 0., 0., 0., 0., 1.]], dtype=float32)"
            ]
          },
          "metadata": {},
          "execution_count": 22
        }
      ]
    },
    {
      "cell_type": "code",
      "metadata": {
        "colab": {
          "base_uri": "https://localhost:8080/"
        },
        "id": "DbMqzBWOFi1n",
        "outputId": "bb62b207-e5ea-4b41-f2aa-d69259c35c67"
      },
      "source": [
        "x_train.shape"
      ],
      "execution_count": 23,
      "outputs": [
        {
          "output_type": "execute_result",
          "data": {
            "text/plain": [
              "(60000, 784)"
            ]
          },
          "metadata": {},
          "execution_count": 23
        }
      ]
    },
    {
      "cell_type": "markdown",
      "metadata": {
        "id": "2Em4TRO2y_Jr"
      },
      "source": [
        "## entraînement d'un MLP"
      ]
    },
    {
      "cell_type": "code",
      "metadata": {
        "id": "MUEc96BBy6t-",
        "colab": {
          "base_uri": "https://localhost:8080/"
        },
        "outputId": "19a78181-4360-4220-b6f4-9b109920cf7d"
      },
      "source": [
        "model = Sequential()\n",
        "model.add(Dense(256, activation='relu',\n",
        "                kernel_regularizer = l2(1e-3),\n",
        "                input_shape=(784,)))\n",
        "#####model.add(Dropout(0.5))\n",
        "model.add(Dense(256, activation='relu',\n",
        "                kernel_regularizer = l2(1e-3)))\n",
        "#####model.add(Dropout(0.5))\n",
        "model.add(Dense(10, activation='softmax'))\n",
        "\n",
        "model.summary()"
      ],
      "execution_count": 24,
      "outputs": [
        {
          "output_type": "stream",
          "name": "stdout",
          "text": [
            "Model: \"sequential_1\"\n",
            "_________________________________________________________________\n",
            " Layer (type)                Output Shape              Param #   \n",
            "=================================================================\n",
            " dense_3 (Dense)             (None, 256)               200960    \n",
            "                                                                 \n",
            " dense_4 (Dense)             (None, 256)               65792     \n",
            "                                                                 \n",
            " dense_5 (Dense)             (None, 10)                2570      \n",
            "                                                                 \n",
            "=================================================================\n",
            "Total params: 269,322\n",
            "Trainable params: 269,322\n",
            "Non-trainable params: 0\n",
            "_________________________________________________________________\n"
          ]
        }
      ]
    },
    {
      "cell_type": "code",
      "metadata": {
        "id": "MAMaMwbMzFYa"
      },
      "source": [
        "model.compile(loss = 'categorical_crossentropy',\n",
        "              optimizer = Adam(learning_rate=1e-3),\n",
        "              metrics = ['accuracy'])"
      ],
      "execution_count": 25,
      "outputs": []
    },
    {
      "cell_type": "code",
      "metadata": {
        "id": "5y13FO-wwdc8"
      },
      "source": [
        "batch_size = 128 #en général entre 32 et 256\n",
        "epochs = 50"
      ],
      "execution_count": 26,
      "outputs": []
    },
    {
      "cell_type": "code",
      "metadata": {
        "id": "6VKFa8hAH5Op",
        "colab": {
          "base_uri": "https://localhost:8080/"
        },
        "outputId": "e0bef988-ba7d-425f-a61d-402314714fdd"
      },
      "source": [
        "60000//128 #nb de batchs"
      ],
      "execution_count": 27,
      "outputs": [
        {
          "output_type": "execute_result",
          "data": {
            "text/plain": [
              "468"
            ]
          },
          "metadata": {},
          "execution_count": 27
        }
      ]
    },
    {
      "cell_type": "code",
      "metadata": {
        "id": "nvYsXcE1zIgx",
        "colab": {
          "base_uri": "https://localhost:8080/"
        },
        "outputId": "5134501a-4ca4-4c96-a476-f683f49a66fe"
      },
      "source": [
        "H = model.fit(x_train, y_train,\n",
        "                    batch_size=batch_size,\n",
        "                    epochs=epochs,\n",
        "                    verbose=1,\n",
        "                    validation_data=(x_test, y_test))"
      ],
      "execution_count": 28,
      "outputs": [
        {
          "output_type": "stream",
          "name": "stdout",
          "text": [
            "Epoch 1/50\n",
            "469/469 [==============================] - 8s 5ms/step - loss: 0.5961 - accuracy: 0.9225 - val_loss: 0.3637 - val_accuracy: 0.9583\n",
            "Epoch 2/50\n",
            "469/469 [==============================] - 3s 6ms/step - loss: 0.3059 - accuracy: 0.9617 - val_loss: 0.2490 - val_accuracy: 0.9675\n",
            "Epoch 3/50\n",
            "469/469 [==============================] - 2s 4ms/step - loss: 0.2303 - accuracy: 0.9692 - val_loss: 0.2084 - val_accuracy: 0.9732\n",
            "Epoch 4/50\n",
            "469/469 [==============================] - 2s 4ms/step - loss: 0.1990 - accuracy: 0.9726 - val_loss: 0.2069 - val_accuracy: 0.9653\n",
            "Epoch 5/50\n",
            "469/469 [==============================] - 2s 4ms/step - loss: 0.1811 - accuracy: 0.9757 - val_loss: 0.1782 - val_accuracy: 0.9745\n",
            "Epoch 6/50\n",
            "469/469 [==============================] - 2s 4ms/step - loss: 0.1734 - accuracy: 0.9754 - val_loss: 0.1696 - val_accuracy: 0.9755\n",
            "Epoch 7/50\n",
            "469/469 [==============================] - 2s 4ms/step - loss: 0.1607 - accuracy: 0.9783 - val_loss: 0.1800 - val_accuracy: 0.9701\n",
            "Epoch 8/50\n",
            "469/469 [==============================] - 3s 6ms/step - loss: 0.1538 - accuracy: 0.9787 - val_loss: 0.1600 - val_accuracy: 0.9763\n",
            "Epoch 9/50\n",
            "469/469 [==============================] - 2s 4ms/step - loss: 0.1496 - accuracy: 0.9793 - val_loss: 0.1601 - val_accuracy: 0.9752\n",
            "Epoch 10/50\n",
            "469/469 [==============================] - 2s 4ms/step - loss: 0.1449 - accuracy: 0.9797 - val_loss: 0.1447 - val_accuracy: 0.9791\n",
            "Epoch 11/50\n",
            "469/469 [==============================] - 2s 4ms/step - loss: 0.1398 - accuracy: 0.9801 - val_loss: 0.1649 - val_accuracy: 0.9714\n",
            "Epoch 12/50\n",
            "469/469 [==============================] - 2s 4ms/step - loss: 0.1351 - accuracy: 0.9815 - val_loss: 0.1551 - val_accuracy: 0.9739\n",
            "Epoch 13/50\n",
            "469/469 [==============================] - 2s 5ms/step - loss: 0.1326 - accuracy: 0.9816 - val_loss: 0.1498 - val_accuracy: 0.9756\n",
            "Epoch 14/50\n",
            "469/469 [==============================] - 3s 5ms/step - loss: 0.1302 - accuracy: 0.9822 - val_loss: 0.1529 - val_accuracy: 0.9743\n",
            "Epoch 15/50\n",
            "469/469 [==============================] - 2s 4ms/step - loss: 0.1253 - accuracy: 0.9823 - val_loss: 0.1387 - val_accuracy: 0.9776\n",
            "Epoch 16/50\n",
            "469/469 [==============================] - 2s 4ms/step - loss: 0.1245 - accuracy: 0.9828 - val_loss: 0.1410 - val_accuracy: 0.9771\n",
            "Epoch 17/50\n",
            "469/469 [==============================] - 2s 5ms/step - loss: 0.1193 - accuracy: 0.9838 - val_loss: 0.1410 - val_accuracy: 0.9781\n",
            "Epoch 18/50\n",
            "469/469 [==============================] - 3s 7ms/step - loss: 0.1206 - accuracy: 0.9825 - val_loss: 0.1311 - val_accuracy: 0.9777\n",
            "Epoch 19/50\n",
            "469/469 [==============================] - 3s 6ms/step - loss: 0.1161 - accuracy: 0.9841 - val_loss: 0.1377 - val_accuracy: 0.9763\n",
            "Epoch 20/50\n",
            "469/469 [==============================] - 2s 4ms/step - loss: 0.1157 - accuracy: 0.9840 - val_loss: 0.1381 - val_accuracy: 0.9758\n",
            "Epoch 21/50\n",
            "469/469 [==============================] - 2s 4ms/step - loss: 0.1157 - accuracy: 0.9842 - val_loss: 0.1315 - val_accuracy: 0.9797\n",
            "Epoch 22/50\n",
            "469/469 [==============================] - 2s 5ms/step - loss: 0.1125 - accuracy: 0.9848 - val_loss: 0.1355 - val_accuracy: 0.9766\n",
            "Epoch 23/50\n",
            "469/469 [==============================] - 2s 4ms/step - loss: 0.1130 - accuracy: 0.9843 - val_loss: 0.1363 - val_accuracy: 0.9767\n",
            "Epoch 24/50\n",
            "469/469 [==============================] - 2s 5ms/step - loss: 0.1117 - accuracy: 0.9846 - val_loss: 0.1293 - val_accuracy: 0.9794\n",
            "Epoch 25/50\n",
            "469/469 [==============================] - 2s 5ms/step - loss: 0.1095 - accuracy: 0.9843 - val_loss: 0.1423 - val_accuracy: 0.9737\n",
            "Epoch 26/50\n",
            "469/469 [==============================] - 2s 4ms/step - loss: 0.1103 - accuracy: 0.9847 - val_loss: 0.1271 - val_accuracy: 0.9771\n",
            "Epoch 27/50\n",
            "469/469 [==============================] - 2s 4ms/step - loss: 0.1094 - accuracy: 0.9849 - val_loss: 0.1373 - val_accuracy: 0.9762\n",
            "Epoch 28/50\n",
            "469/469 [==============================] - 2s 4ms/step - loss: 0.1067 - accuracy: 0.9854 - val_loss: 0.1373 - val_accuracy: 0.9778\n",
            "Epoch 29/50\n",
            "469/469 [==============================] - 2s 4ms/step - loss: 0.1073 - accuracy: 0.9848 - val_loss: 0.1352 - val_accuracy: 0.9779\n",
            "Epoch 30/50\n",
            "469/469 [==============================] - 2s 5ms/step - loss: 0.1062 - accuracy: 0.9850 - val_loss: 0.1355 - val_accuracy: 0.9767\n",
            "Epoch 31/50\n",
            "469/469 [==============================] - 2s 5ms/step - loss: 0.1040 - accuracy: 0.9857 - val_loss: 0.1422 - val_accuracy: 0.9739\n",
            "Epoch 32/50\n",
            "469/469 [==============================] - 2s 4ms/step - loss: 0.1045 - accuracy: 0.9853 - val_loss: 0.1364 - val_accuracy: 0.9765\n",
            "Epoch 33/50\n",
            "469/469 [==============================] - 2s 4ms/step - loss: 0.1007 - accuracy: 0.9860 - val_loss: 0.1282 - val_accuracy: 0.9765\n",
            "Epoch 34/50\n",
            "469/469 [==============================] - 2s 4ms/step - loss: 0.1057 - accuracy: 0.9844 - val_loss: 0.1345 - val_accuracy: 0.9753\n",
            "Epoch 35/50\n",
            "469/469 [==============================] - 2s 4ms/step - loss: 0.1023 - accuracy: 0.9859 - val_loss: 0.1355 - val_accuracy: 0.9768\n",
            "Epoch 36/50\n",
            "469/469 [==============================] - 3s 5ms/step - loss: 0.1018 - accuracy: 0.9857 - val_loss: 0.1325 - val_accuracy: 0.9777\n",
            "Epoch 37/50\n",
            "469/469 [==============================] - 2s 5ms/step - loss: 0.1011 - accuracy: 0.9855 - val_loss: 0.1404 - val_accuracy: 0.9764\n",
            "Epoch 38/50\n",
            "469/469 [==============================] - 2s 5ms/step - loss: 0.0980 - accuracy: 0.9869 - val_loss: 0.1278 - val_accuracy: 0.9784\n",
            "Epoch 39/50\n",
            "469/469 [==============================] - 2s 4ms/step - loss: 0.0979 - accuracy: 0.9868 - val_loss: 0.1339 - val_accuracy: 0.9782\n",
            "Epoch 40/50\n",
            "469/469 [==============================] - 2s 4ms/step - loss: 0.1005 - accuracy: 0.9862 - val_loss: 0.1397 - val_accuracy: 0.9732\n",
            "Epoch 41/50\n",
            "469/469 [==============================] - 2s 4ms/step - loss: 0.0989 - accuracy: 0.9863 - val_loss: 0.1327 - val_accuracy: 0.9760\n",
            "Epoch 42/50\n",
            "469/469 [==============================] - 3s 6ms/step - loss: 0.0982 - accuracy: 0.9863 - val_loss: 0.1370 - val_accuracy: 0.9742\n",
            "Epoch 43/50\n",
            "469/469 [==============================] - 2s 4ms/step - loss: 0.0983 - accuracy: 0.9863 - val_loss: 0.1339 - val_accuracy: 0.9750\n",
            "Epoch 44/50\n",
            "469/469 [==============================] - 2s 4ms/step - loss: 0.0964 - accuracy: 0.9870 - val_loss: 0.1303 - val_accuracy: 0.9766\n",
            "Epoch 45/50\n",
            "469/469 [==============================] - 2s 4ms/step - loss: 0.0978 - accuracy: 0.9861 - val_loss: 0.1393 - val_accuracy: 0.9752\n",
            "Epoch 46/50\n",
            "469/469 [==============================] - 2s 4ms/step - loss: 0.0987 - accuracy: 0.9858 - val_loss: 0.1297 - val_accuracy: 0.9778\n",
            "Epoch 47/50\n",
            "469/469 [==============================] - 2s 5ms/step - loss: 0.0980 - accuracy: 0.9864 - val_loss: 0.1281 - val_accuracy: 0.9771\n",
            "Epoch 48/50\n",
            "469/469 [==============================] - 3s 7ms/step - loss: 0.0917 - accuracy: 0.9883 - val_loss: 0.1363 - val_accuracy: 0.9763\n",
            "Epoch 49/50\n",
            "469/469 [==============================] - 3s 5ms/step - loss: 0.0967 - accuracy: 0.9864 - val_loss: 0.1234 - val_accuracy: 0.9796\n",
            "Epoch 50/50\n",
            "469/469 [==============================] - 2s 4ms/step - loss: 0.0941 - accuracy: 0.9873 - val_loss: 0.1241 - val_accuracy: 0.9783\n"
          ]
        }
      ]
    },
    {
      "cell_type": "code",
      "metadata": {
        "id": "ObADUeDG0-av",
        "colab": {
          "base_uri": "https://localhost:8080/",
          "height": 352
        },
        "outputId": "fa52780d-09a4-4c9c-d013-f27a7c7c9aa5"
      },
      "source": [
        "plt.figure(figsize=(10,5))\n",
        "plt.plot(H.history['loss'], label='train')\n",
        "plt.plot(H.history['val_loss'], label='val')\n",
        "plt.legend()\n",
        "plt.xlabel('epochs')\n",
        "plt.ylabel('categorical cross entropy')"
      ],
      "execution_count": 29,
      "outputs": [
        {
          "output_type": "execute_result",
          "data": {
            "text/plain": [
              "Text(0, 0.5, 'categorical cross entropy')"
            ]
          },
          "metadata": {},
          "execution_count": 29
        },
        {
          "output_type": "display_data",
          "data": {
            "text/plain": [
              "<Figure size 720x360 with 1 Axes>"
            ],
            "image/png": "[encoded data removed]"
          },
          "metadata": {
            "needs_background": "light"
          }
        }
      ]
    },
    {
      "cell_type": "code",
      "metadata": {
        "colab": {
          "base_uri": "https://localhost:8080/",
          "height": 297
        },
        "id": "EXU6RBWaGrIV",
        "outputId": "570888ee-6dbf-4d65-b0da-724d864778b2"
      },
      "source": [
        "plt.plot(H.history['accuracy'], label='train')\n",
        "plt.plot(H.history['val_accuracy'], label='val')\n",
        "plt.legend()\n",
        "plt.xlabel('epochs')\n",
        "plt.ylabel('accuracy')"
      ],
      "execution_count": 30,
      "outputs": [
        {
          "output_type": "execute_result",
          "data": {
            "text/plain": [
              "Text(0, 0.5, 'accuracy')"
            ]
          },
          "metadata": {},
          "execution_count": 30
        },
        {
          "output_type": "display_data",
          "data": {
            "text/plain": [
              "<Figure size 432x288 with 1 Axes>"
            ],
            "image/png": "[encoded data removed]"
          },
          "metadata": {
            "needs_background": "light"
          }
        }
      ]
    },
    {
      "cell_type": "markdown",
      "metadata": {
        "id": "Cd3bT8GO0BwM"
      },
      "source": [
        "score sur toute la base de données de test"
      ]
    },
    {
      "cell_type": "code",
      "metadata": {
        "id": "2JQgv788zlp1",
        "colab": {
          "base_uri": "https://localhost:8080/"
        },
        "outputId": "fdd9fc1c-6431-4761-9672-91b24dadc6d7"
      },
      "source": [
        "score = model.evaluate(x_test, y_test, verbose=0)\n",
        "print('Test loss:', score[0])\n",
        "print('Test accuracy:', score[1])"
      ],
      "execution_count": 31,
      "outputs": [
        {
          "output_type": "stream",
          "name": "stdout",
          "text": [
            "Test loss: 0.12405473738908768\n",
            "Test accuracy: 0.9782999753952026\n"
          ]
        }
      ]
    },
    {
      "cell_type": "markdown",
      "metadata": {
        "id": "bOvNRqWz0I5F"
      },
      "source": [
        "regardons le résultat sur quelques images de test"
      ]
    },
    {
      "cell_type": "code",
      "metadata": {
        "id": "0mKIIBBezwba",
        "colab": {
          "base_uri": "https://localhost:8080/",
          "height": 167
        },
        "outputId": "c872cdf2-713a-4b19-a69a-56730160185e"
      },
      "source": [
        "randindices=np.random.randint(x_test.shape[0],size=3)\n",
        "plt.figure()\n",
        "plt.subplot(1,3,1)\n",
        "plt.imshow(np.reshape(x_test[randindices[0],:],(28,28)), cmap='gray')\n",
        "plt.subplot(1,3,2)\n",
        "plt.imshow(np.reshape(x_test[randindices[1],:],(28,28)), cmap='gray')\n",
        "plt.subplot(1,3,3)\n",
        "plt.imshow(np.reshape(x_test[randindices[2],:],(28,28)), cmap='gray')"
      ],
      "execution_count": 32,
      "outputs": [
        {
          "output_type": "execute_result",
          "data": {
            "text/plain": [
              "<matplotlib.image.AxesImage at 0x7f23fc13b880>"
            ]
          },
          "metadata": {},
          "execution_count": 32
        },
        {
          "output_type": "display_data",
          "data": {
            "text/plain": [
              "<Figure size 432x288 with 3 Axes>"
            ],
            "image/png": "[encoded data removed]"
          },
          "metadata": {
            "needs_background": "light"
          }
        }
      ]
    },
    {
      "cell_type": "code",
      "metadata": {
        "id": "sf3tl7fpzwfs",
        "colab": {
          "base_uri": "https://localhost:8080/"
        },
        "outputId": "9770e61d-57a4-4d3d-ed72-b85564d421e2"
      },
      "source": [
        "predictions = model.predict(x_test)\n",
        "print(\"Le réseau reconnaît le chiffre \"+ str(np.argmax(predictions[randindices[0],:])) + ' avec une confiance ' + str(np.max(predictions[randindices[0],:]) * 100) + '%.')\n",
        "print(\"Le réseau reconnaît le chiffre \"+ str(np.argmax(predictions[randindices[1],:])) + ' avec une confiance ' + str(np.max(predictions[randindices[1],:]) * 100) + '%.')\n",
        "print(\"Le réseau reconnaît le chiffre \"+ str(np.argmax(predictions[randindices[2],:])) + ' avec une confiance ' + str(np.max(predictions[randindices[2],:]) * 100) + '%.')"
      ],
      "execution_count": 33,
      "outputs": [
        {
          "output_type": "stream",
          "name": "stdout",
          "text": [
            "313/313 [==============================] - 1s 2ms/step\n",
            "Le réseau reconnaît le chiffre 7 avec une confiance 99.57461953163147%.\n",
            "Le réseau reconnaît le chiffre 5 avec une confiance 89.22934532165527%.\n",
            "Le réseau reconnaît le chiffre 7 avec une confiance 99.99314546585083%.\n"
          ]
        }
      ]
    },
    {
      "cell_type": "code",
      "metadata": {
        "id": "g1Z5Jv_zF7Lt"
      },
      "source": [],
      "execution_count": 33,
      "outputs": []
    }
  ]
}